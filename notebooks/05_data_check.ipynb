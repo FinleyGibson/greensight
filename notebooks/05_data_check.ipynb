{
 "cells": [
  {
   "cell_type": "code",
   "execution_count": 4,
   "metadata": {},
   "outputs": [],
   "source": [
    "from greensight.utils import DIR_DATA\n",
    "import pandas as pd"
   ]
  },
  {
   "cell_type": "code",
   "execution_count": 8,
   "metadata": {},
   "outputs": [],
   "source": [
    "data_path = DIR_DATA / \"sentinel_data/Greenbelts_2023\"\n",
    "assert data_path.is_dir()\n",
    "\n",
    "files_2023 = sorted([file for file in data_path.iterdir() if \"S1\" in file.stem and \"mean\" in file.stem])"
   ]
  },
  {
   "cell_type": "code",
   "execution_count": 9,
   "metadata": {},
   "outputs": [],
   "source": [
    "data_path = DIR_DATA / \"sentinel_data/Greenbelts_2024\"\n",
    "assert data_path.is_dir()\n",
    "\n",
    "files_2024 = sorted([file for file in data_path.iterdir() if \"S1\" in file.stem and \"mean\" in file.stem])"
   ]
  },
  {
   "cell_type": "code",
   "execution_count": 10,
   "metadata": {},
   "outputs": [],
   "source": [
    "cols_2023 = [pd.read_csv(file).columns for file in files_2023]"
   ]
  },
  {
   "cell_type": "code",
   "execution_count": 11,
   "metadata": {},
   "outputs": [],
   "source": [
    "cols_2024 = [pd.read_csv(file).columns for file in files_2024]"
   ]
  },
  {
   "cell_type": "code",
   "execution_count": 12,
   "metadata": {},
   "outputs": [
    {
     "name": "stdout",
     "output_type": "stream",
     "text": [
      "10\n",
      "10\n"
     ]
    }
   ],
   "source": [
    "print(len(cols_2023))\n",
    "print(len(cols_2024))"
   ]
  },
  {
   "cell_type": "code",
   "execution_count": 15,
   "metadata": {},
   "outputs": [
    {
     "name": "stdout",
     "output_type": "stream",
     "text": [
      "51\n",
      "51\n",
      "51\n",
      "51\n",
      "51\n",
      "51\n",
      "51\n",
      "51\n",
      "51\n",
      "51\n"
     ]
    }
   ],
   "source": [
    "for c in cols_2023:\n",
    "    print(len(c))"
   ]
  },
  {
   "cell_type": "code",
   "execution_count": 16,
   "metadata": {},
   "outputs": [
    {
     "name": "stdout",
     "output_type": "stream",
     "text": [
      "41\n",
      "41\n",
      "43\n",
      "43\n",
      "43\n",
      "43\n",
      "43\n",
      "43\n",
      "43\n",
      "43\n"
     ]
    }
   ],
   "source": [
    "for c in cols_2024:\n",
    "    print(len(c))"
   ]
  },
  {
   "cell_type": "code",
   "execution_count": 18,
   "metadata": {},
   "outputs": [
    {
     "data": {
      "text/plain": [
       "['10_VHAsc',\n",
       " '10_VHDes',\n",
       " '10_VVAsc',\n",
       " '10_VVDes',\n",
       " '11_VHAsc',\n",
       " '11_VHDes',\n",
       " '11_VVAsc',\n",
       " '11_VVDes',\n",
       " '9_VHDes',\n",
       " '9_VVDes']"
      ]
     },
     "execution_count": 18,
     "metadata": {},
     "output_type": "execute_result"
    }
   ],
   "source": [
    "[i for i in cols_2023[0] if i not in cols_2024[0]]"
   ]
  },
  {
   "cell_type": "code",
   "execution_count": 19,
   "metadata": {},
   "outputs": [
    {
     "data": {
      "text/plain": [
       "['10_VHAsc',\n",
       " '10_VHDes',\n",
       " '10_VVAsc',\n",
       " '10_VVDes',\n",
       " '11_VHAsc',\n",
       " '11_VHDes',\n",
       " '11_VVAsc',\n",
       " '11_VVDes',\n",
       " '9_VHDes',\n",
       " '9_VVDes']"
      ]
     },
     "execution_count": 19,
     "metadata": {},
     "output_type": "execute_result"
    }
   ],
   "source": [
    "[i for i in cols_2023[1] if i not in cols_2024[1]]\n"
   ]
  },
  {
   "cell_type": "code",
   "execution_count": 20,
   "metadata": {},
   "outputs": [
    {
     "data": {
      "text/plain": [
       "['10_VHAsc',\n",
       " '10_VHDes',\n",
       " '10_VVAsc',\n",
       " '10_VVDes',\n",
       " '11_VHAsc',\n",
       " '11_VHDes',\n",
       " '11_VVAsc',\n",
       " '11_VVDes']"
      ]
     },
     "execution_count": 20,
     "metadata": {},
     "output_type": "execute_result"
    }
   ],
   "source": [
    "[i for i in cols_2023[3] if i not in cols_2024[3]]"
   ]
  },
  {
   "cell_type": "code",
   "execution_count": null,
   "metadata": {},
   "outputs": [],
   "source": []
  }
 ],
 "metadata": {
  "kernelspec": {
   "display_name": ".venv",
   "language": "python",
   "name": "python3"
  },
  "language_info": {
   "codemirror_mode": {
    "name": "ipython",
    "version": 3
   },
   "file_extension": ".py",
   "mimetype": "text/x-python",
   "name": "python",
   "nbconvert_exporter": "python",
   "pygments_lexer": "ipython3",
   "version": "3.12.6"
  }
 },
 "nbformat": 4,
 "nbformat_minor": 2
}
