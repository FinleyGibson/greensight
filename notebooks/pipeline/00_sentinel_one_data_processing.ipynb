{
 "cells": [
  {
   "cell_type": "code",
   "execution_count": 1,
   "metadata": {},
   "outputs": [],
   "source": [
    "from greensight.processing import load_sentinel_data_from_dir\n",
    "from greensight.utils import DIR_DATA"
   ]
  },
  {
   "cell_type": "code",
   "execution_count": 2,
   "metadata": {},
   "outputs": [],
   "source": [
    "sentinel_data_path = DIR_DATA / \"sentinel_data\"\n",
    "assert sentinel_data_path.is_dir()"
   ]
  },
  {
   "cell_type": "code",
   "execution_count": 3,
   "metadata": {},
   "outputs": [
    {
     "name": "stderr",
     "output_type": "stream",
     "text": [
      "/home/finley/Work/RDS/greensight/greensight/processing.py:28: FutureWarning: unique with argument that is not not a Series, Index, ExtensionArray, or np.ndarray is deprecated and will raise in a future version.\n",
      "  band_inds = pd.unique([i.split(\"_\")[1] for i in df.columns.unique() if i.split(\"_\")[0].isnumeric()])\n",
      "/home/finley/Work/RDS/greensight/greensight/processing.py:31: FutureWarning: unique with argument that is not not a Series, Index, ExtensionArray, or np.ndarray is deprecated and will raise in a future version.\n",
      "  month_inds = pd.unique([i.split(\"_\")[0] for i in df.columns.unique() if i.split(\"_\")[0].isnumeric()])\n",
      "/home/finley/Work/RDS/greensight/greensight/processing.py:28: FutureWarning: unique with argument that is not not a Series, Index, ExtensionArray, or np.ndarray is deprecated and will raise in a future version.\n",
      "  band_inds = pd.unique([i.split(\"_\")[1] for i in df.columns.unique() if i.split(\"_\")[0].isnumeric()])\n",
      "/home/finley/Work/RDS/greensight/greensight/processing.py:31: FutureWarning: unique with argument that is not not a Series, Index, ExtensionArray, or np.ndarray is deprecated and will raise in a future version.\n",
      "  month_inds = pd.unique([i.split(\"_\")[0] for i in df.columns.unique() if i.split(\"_\")[0].isnumeric()])\n",
      "/home/finley/Work/RDS/greensight/greensight/processing.py:28: FutureWarning: unique with argument that is not not a Series, Index, ExtensionArray, or np.ndarray is deprecated and will raise in a future version.\n",
      "  band_inds = pd.unique([i.split(\"_\")[1] for i in df.columns.unique() if i.split(\"_\")[0].isnumeric()])\n",
      "/home/finley/Work/RDS/greensight/greensight/processing.py:31: FutureWarning: unique with argument that is not not a Series, Index, ExtensionArray, or np.ndarray is deprecated and will raise in a future version.\n",
      "  month_inds = pd.unique([i.split(\"_\")[0] for i in df.columns.unique() if i.split(\"_\")[0].isnumeric()])\n",
      "/home/finley/Work/RDS/greensight/greensight/processing.py:28: FutureWarning: unique with argument that is not not a Series, Index, ExtensionArray, or np.ndarray is deprecated and will raise in a future version.\n",
      "  band_inds = pd.unique([i.split(\"_\")[1] for i in df.columns.unique() if i.split(\"_\")[0].isnumeric()])\n",
      "/home/finley/Work/RDS/greensight/greensight/processing.py:31: FutureWarning: unique with argument that is not not a Series, Index, ExtensionArray, or np.ndarray is deprecated and will raise in a future version.\n",
      "  month_inds = pd.unique([i.split(\"_\")[0] for i in df.columns.unique() if i.split(\"_\")[0].isnumeric()])\n",
      "/home/finley/Work/RDS/greensight/greensight/processing.py:28: FutureWarning: unique with argument that is not not a Series, Index, ExtensionArray, or np.ndarray is deprecated and will raise in a future version.\n",
      "  band_inds = pd.unique([i.split(\"_\")[1] for i in df.columns.unique() if i.split(\"_\")[0].isnumeric()])\n",
      "/home/finley/Work/RDS/greensight/greensight/processing.py:31: FutureWarning: unique with argument that is not not a Series, Index, ExtensionArray, or np.ndarray is deprecated and will raise in a future version.\n",
      "  month_inds = pd.unique([i.split(\"_\")[0] for i in df.columns.unique() if i.split(\"_\")[0].isnumeric()])\n",
      "/home/finley/Work/RDS/greensight/greensight/processing.py:28: FutureWarning: unique with argument that is not not a Series, Index, ExtensionArray, or np.ndarray is deprecated and will raise in a future version.\n",
      "  band_inds = pd.unique([i.split(\"_\")[1] for i in df.columns.unique() if i.split(\"_\")[0].isnumeric()])\n",
      "/home/finley/Work/RDS/greensight/greensight/processing.py:31: FutureWarning: unique with argument that is not not a Series, Index, ExtensionArray, or np.ndarray is deprecated and will raise in a future version.\n",
      "  month_inds = pd.unique([i.split(\"_\")[0] for i in df.columns.unique() if i.split(\"_\")[0].isnumeric()])\n",
      "/home/finley/Work/RDS/greensight/greensight/processing.py:28: FutureWarning: unique with argument that is not not a Series, Index, ExtensionArray, or np.ndarray is deprecated and will raise in a future version.\n",
      "  band_inds = pd.unique([i.split(\"_\")[1] for i in df.columns.unique() if i.split(\"_\")[0].isnumeric()])\n",
      "/home/finley/Work/RDS/greensight/greensight/processing.py:31: FutureWarning: unique with argument that is not not a Series, Index, ExtensionArray, or np.ndarray is deprecated and will raise in a future version.\n",
      "  month_inds = pd.unique([i.split(\"_\")[0] for i in df.columns.unique() if i.split(\"_\")[0].isnumeric()])\n",
      "/home/finley/Work/RDS/greensight/greensight/processing.py:28: FutureWarning: unique with argument that is not not a Series, Index, ExtensionArray, or np.ndarray is deprecated and will raise in a future version.\n",
      "  band_inds = pd.unique([i.split(\"_\")[1] for i in df.columns.unique() if i.split(\"_\")[0].isnumeric()])\n",
      "/home/finley/Work/RDS/greensight/greensight/processing.py:31: FutureWarning: unique with argument that is not not a Series, Index, ExtensionArray, or np.ndarray is deprecated and will raise in a future version.\n",
      "  month_inds = pd.unique([i.split(\"_\")[0] for i in df.columns.unique() if i.split(\"_\")[0].isnumeric()])\n",
      "/home/finley/Work/RDS/greensight/greensight/processing.py:28: FutureWarning: unique with argument that is not not a Series, Index, ExtensionArray, or np.ndarray is deprecated and will raise in a future version.\n",
      "  band_inds = pd.unique([i.split(\"_\")[1] for i in df.columns.unique() if i.split(\"_\")[0].isnumeric()])\n",
      "/home/finley/Work/RDS/greensight/greensight/processing.py:31: FutureWarning: unique with argument that is not not a Series, Index, ExtensionArray, or np.ndarray is deprecated and will raise in a future version.\n",
      "  month_inds = pd.unique([i.split(\"_\")[0] for i in df.columns.unique() if i.split(\"_\")[0].isnumeric()])\n"
     ]
    }
   ],
   "source": [
    "# load data for each year\n",
    "condition = lambda path: \"mean\" in path.stem and \"S1\" in path.stem\n",
    "\n",
    "dfs = []\n",
    "for path in sentinel_data_path.iterdir(): \n",
    "    df = load_sentinel_data_from_dir(path, condition=condition)\n",
    "    dfs.append(df)"
   ]
  },
  {
   "cell_type": "code",
   "execution_count": null,
   "metadata": {},
   "outputs": [],
   "source": [
    "# combine years\n",
    "df_comb = pd.concat(dfs, axis=0)\n",
    "df_comb.columns.names =  (\"greenbelt\", \"shape\", \"band\")\n",
    "df_comb.head(5)"
   ]
  },
  {
   "cell_type": "code",
   "execution_count": null,
   "metadata": {},
   "outputs": [],
   "source": [
    "# save DataFrame\n",
    "output_path = DIR_DATA / \"processed_data/sentinel_one_df.hdf\"\n",
    "df_comb.to_hdf(output_path, key=\"df\", mode=\"w\", format=\"table\")"
   ]
  },
  {
   "cell_type": "code",
   "execution_count": null,
   "metadata": {},
   "outputs": [],
   "source": [
    "\n",
    "## check it is able to be loaded\n",
    "df_loaded = pd.read_hdf(output_path, key=\"df\")\n",
    "df_loaded.head(5)"
   ]
  }
 ],
 "metadata": {
  "kernelspec": {
   "display_name": ".venv",
   "language": "python",
   "name": "python3"
  },
  "language_info": {
   "codemirror_mode": {
    "name": "ipython",
    "version": 3
   },
   "file_extension": ".py",
   "mimetype": "text/x-python",
   "name": "python",
   "nbconvert_exporter": "python",
   "pygments_lexer": "ipython3",
   "version": "3.12.6"
  }
 },
 "nbformat": 4,
 "nbformat_minor": 2
}
