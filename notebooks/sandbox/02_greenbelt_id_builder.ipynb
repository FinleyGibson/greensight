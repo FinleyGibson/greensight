{
 "cells": [
  {
   "cell_type": "markdown",
   "metadata": {},
   "source": [
    "Process to build a lookup table for to which greenbelt shape IDs belong.\n",
    "\n",
    "steps:\n",
    "1. Load data containing id infomration\n"
   ]
  },
  {
   "cell_type": "code",
   "execution_count": 33,
   "metadata": {},
   "outputs": [],
   "source": [
    "from greensight.utils import DIR_DATA\n",
    "import geopandas as gpd\n",
    "from numpy import unique\n",
    "from tqdm import tqdm\n",
    "import json"
   ]
  },
  {
   "cell_type": "code",
   "execution_count": 26,
   "metadata": {},
   "outputs": [],
   "source": [
    "# set location of data file\n",
    "shapes_path = DIR_DATA / \"shapes/England_Green_Belt_2022_23_WGS84/England_Green_Belt_2022_23_WGS84.shp\"\n",
    "\n",
    "# set output path\n",
    "out_path = DIR_DATA / \"id_lookup/id_lookup.json\"\n",
    "if not out_path.parent.is_dir():\n",
    "    out_path.parent.mkdir()"
   ]
  },
  {
   "cell_type": "code",
   "execution_count": 27,
   "metadata": {},
   "outputs": [
    {
     "data": {
      "text/html": [
       "<div>\n",
       "<style scoped>\n",
       "    .dataframe tbody tr th:only-of-type {\n",
       "        vertical-align: middle;\n",
       "    }\n",
       "\n",
       "    .dataframe tbody tr th {\n",
       "        vertical-align: top;\n",
       "    }\n",
       "\n",
       "    .dataframe thead th {\n",
       "        text-align: right;\n",
       "    }\n",
       "</style>\n",
       "<table border=\"1\" class=\"dataframe\">\n",
       "  <thead>\n",
       "    <tr style=\"text-align: right;\">\n",
       "      <th></th>\n",
       "      <th>LAD_NM</th>\n",
       "      <th>LAD_CD</th>\n",
       "      <th>GB_Name</th>\n",
       "      <th>Area_ha</th>\n",
       "      <th>geometry</th>\n",
       "    </tr>\n",
       "  </thead>\n",
       "  <tbody>\n",
       "    <tr>\n",
       "      <th>0</th>\n",
       "      <td>Amber Valley</td>\n",
       "      <td>E07000032</td>\n",
       "      <td>Derby and Nottingham</td>\n",
       "      <td>8647.904471</td>\n",
       "      <td>MULTIPOLYGON (((-1.34303 53.071, -1.34304 53.0...</td>\n",
       "    </tr>\n",
       "    <tr>\n",
       "      <th>1</th>\n",
       "      <td>Ashfield</td>\n",
       "      <td>E07000170</td>\n",
       "      <td>Derby and Nottingham</td>\n",
       "      <td>4521.598181</td>\n",
       "      <td>MULTIPOLYGON (((-1.18089 53.11499, -1.18089 53...</td>\n",
       "    </tr>\n",
       "    <tr>\n",
       "      <th>2</th>\n",
       "      <td>Barking and Dagenham</td>\n",
       "      <td>E09000002</td>\n",
       "      <td>London</td>\n",
       "      <td>527.776471</td>\n",
       "      <td>MULTIPOLYGON (((0.15314 51.56697, 0.15325 51.5...</td>\n",
       "    </tr>\n",
       "    <tr>\n",
       "      <th>3</th>\n",
       "      <td>Barnet</td>\n",
       "      <td>E09000003</td>\n",
       "      <td>London</td>\n",
       "      <td>2383.047837</td>\n",
       "      <td>MULTIPOLYGON (((-0.20927 51.63758, -0.20937 51...</td>\n",
       "    </tr>\n",
       "    <tr>\n",
       "      <th>4</th>\n",
       "      <td>Barnsley</td>\n",
       "      <td>E08000016</td>\n",
       "      <td>South and West Yorkshire</td>\n",
       "      <td>22393.050084</td>\n",
       "      <td>MULTIPOLYGON (((-1.27572 53.52946, -1.27574 53...</td>\n",
       "    </tr>\n",
       "  </tbody>\n",
       "</table>\n",
       "</div>"
      ],
      "text/plain": [
       "                 LAD_NM     LAD_CD                   GB_Name       Area_ha  \\\n",
       "0          Amber Valley  E07000032      Derby and Nottingham   8647.904471   \n",
       "1              Ashfield  E07000170      Derby and Nottingham   4521.598181   \n",
       "2  Barking and Dagenham  E09000002                    London    527.776471   \n",
       "3                Barnet  E09000003                    London   2383.047837   \n",
       "4              Barnsley  E08000016  South and West Yorkshire  22393.050084   \n",
       "\n",
       "                                            geometry  \n",
       "0  MULTIPOLYGON (((-1.34303 53.071, -1.34304 53.0...  \n",
       "1  MULTIPOLYGON (((-1.18089 53.11499, -1.18089 53...  \n",
       "2  MULTIPOLYGON (((0.15314 51.56697, 0.15325 51.5...  \n",
       "3  MULTIPOLYGON (((-0.20927 51.63758, -0.20937 51...  \n",
       "4  MULTIPOLYGON (((-1.27572 53.52946, -1.27574 53...  "
      ]
     },
     "execution_count": 27,
     "metadata": {},
     "output_type": "execute_result"
    }
   ],
   "source": [
    "# read data\n",
    "df_shapes = gpd.read_file(shapes_path)\n",
    "df_shapes.head()"
   ]
  },
  {
   "cell_type": "code",
   "execution_count": 28,
   "metadata": {},
   "outputs": [
    {
     "name": "stderr",
     "output_type": "stream",
     "text": [
      "100%|██████████| 185/185 [00:00<00:00, 4993.03it/s]\n",
      "100%|██████████| 185/185 [00:00<00:00, 4993.03it/s]\n"
     ]
    }
   ],
   "source": [
    "# create dictionary of ids->greenbelt names\n",
    "D_ids = {}\n",
    "for lad_cd in tqdm(df_shapes[\"LAD_CD\"]):\n",
    "    D_ids[lad_cd] = df_shapes.loc[df_shapes[\"LAD_CD\"] == lad_cd][\"GB_Name\"].values[0]\n"
   ]
  },
  {
   "cell_type": "code",
   "execution_count": 38,
   "metadata": {},
   "outputs": [
    {
     "name": "stdout",
     "output_type": "stream",
     "text": [
      "Identified 180 LAD_CD ids.\n",
      "Contains 16 different greenbelts.\n"
     ]
    }
   ],
   "source": [
    "# summary of findings\n",
    "print(\"Identified {} LAD_CD ids.\".format(len(D_ids)))\n",
    "print(\"Contains {} different greenbelts.\".format(len(unique(df_shapes[\"GB_Name\"]))))"
   ]
  },
  {
   "cell_type": "code",
   "execution_count": 39,
   "metadata": {},
   "outputs": [],
   "source": [
    "# save output\n",
    "with open(out_path, \"w\") as out_file:\n",
    "    json.dump(D_ids, out_file)"
   ]
  }
 ],
 "metadata": {
  "kernelspec": {
   "display_name": "greensight",
   "language": "python",
   "name": "python3"
  },
  "language_info": {
   "codemirror_mode": {
    "name": "ipython",
    "version": 3
   },
   "file_extension": ".py",
   "mimetype": "text/x-python",
   "name": "python",
   "nbconvert_exporter": "python",
   "pygments_lexer": "ipython3",
   "version": "3.12.7"
  }
 },
 "nbformat": 4,
 "nbformat_minor": 2
}
