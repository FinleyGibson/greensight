{
 "cells": [
  {
   "cell_type": "code",
   "execution_count": 1,
   "metadata": {},
   "outputs": [],
   "source": [
    "from indices import INDEX_NAMES "
   ]
  },
  {
   "cell_type": "code",
   "execution_count": 2,
   "metadata": {},
   "outputs": [
    {
     "name": "stdout",
     "output_type": "stream",
     "text": [
      "Importing GEE\n",
      "Utils imported\n",
      "Masks class imported\n",
      "GEE already imported\n",
      "Sentinel1 class imported\n",
      "Sentinel2b class imported\n",
      "GEE already imported\n",
      "Class fieldData imported\n",
      "Masks class imported\n",
      "GEE already imported\n",
      "Return didn't work\n",
      "Sentinel1:  2021-01-01 2021-12-31\n",
      "Sentinel2:  2021-01-01 2021-12-31\n",
      "Shapefile  projects/plottosat-fjgibson/assets/greenbelts  is loaded with  185  polygons\n",
      "Sampling size updated to 1\n",
      "NEW SAMPLING: =  1\n",
      "Sentinel 2 added\n",
      "exporting collections\n",
      "WARNING: Sentinel 1 collection parameters loaded are NOT valid and system is skipping this collection\n",
      "Sentinel 2 collection parameters loaded are valid and system is now intepreting data\n",
      "selectedBandsNIndices: ['B8', 'B4', 'arvi', 'bi', 'bi2', 'ci', 'dvi', 'gemi', 'gndvi', 'ipvi', 'ireci', 'mcari', 'mndwi', 'msavi', 'msavi2', 'mtci', 'ndi45', 'ndpi', 'ndti', 'ndvi', 'ndwi', 'ndwi2', 'pssra', 'pvi', 'reip', 'ri', 'rvi', 's2rep', 'savi', 'tndvi', 'tsavi', 'wdvi']\n"
     ]
    },
    {
     "name": "stderr",
     "output_type": "stream",
     "text": [
      "/home/finley/Work/RDS/projects/greensight/.venv/lib/python3.12/site-packages/ee/deprecation.py:207: DeprecationWarning: \n",
      "\n",
      "Attention required for UMD/hansen/global_forest_change_2022_v1_10! You are using a deprecated asset.\n",
      "To ensure continued functionality, please update it.\n",
      "Learn more: https://developers.google.com/earth-engine/datasets/catalog/UMD_hansen_global_forest_change_2022_v1_10\n",
      "\n",
      "  warnings.warn(warning, category=DeprecationWarning)\n"
     ]
    },
    {
     "name": "stdout",
     "output_type": "stream",
     "text": [
      "Band names:  ['0_B8', '0_B4', '0_arvi', '0_bi', '0_bi2', '0_ci', '0_dvi', '0_gemi', '0_gndvi', '0_ipvi', '0_ireci', '0_mcari', '0_mndwi', '0_msavi', '0_msavi2', '0_mtci', '0_ndi45', '0_ndpi', '0_ndti', '0_ndvi', '0_ndwi', '0_ndwi2', '0_pssra', '0_pvi', '0_reip', '0_ri', '0_rvi', '0_s2rep', '0_savi', '0_tndvi', '0_tsavi', '0_wdvi', '1_B8', '1_B4', '1_arvi', '1_bi', '1_bi2', '1_ci', '1_dvi', '1_gemi', '1_gndvi', '1_ipvi', '1_ireci', '1_mcari', '1_mndwi', '1_msavi', '1_msavi2', '1_mtci', '1_ndi45', '1_ndpi', '1_ndti', '1_ndvi', '1_ndwi', '1_ndwi2', '1_pssra', '1_pvi', '1_reip', '1_ri', '1_rvi', '1_s2rep', '1_savi', '1_tndvi', '1_tsavi', '1_wdvi', '2_B8', '2_B4', '2_arvi', '2_bi', '2_bi2', '2_ci', '2_dvi', '2_gemi', '2_gndvi', '2_ipvi', '2_ireci', '2_mcari', '2_mndwi', '2_msavi', '2_msavi2', '2_mtci', '2_ndi45', '2_ndpi', '2_ndti', '2_ndvi', '2_ndwi', '2_ndwi2', '2_pssra', '2_pvi', '2_reip', '2_ri', '2_rvi', '2_s2rep', '2_savi', '2_tndvi', '2_tsavi', '2_wdvi', '3_B8', '3_B4', '3_arvi', '3_bi', '3_bi2', '3_ci', '3_dvi', '3_gemi', '3_gndvi', '3_ipvi', '3_ireci', '3_mcari', '3_mndwi', '3_msavi', '3_msavi2', '3_mtci', '3_ndi45', '3_ndpi', '3_ndti', '3_ndvi', '3_ndwi', '3_ndwi2', '3_pssra', '3_pvi', '3_reip', '3_ri', '3_rvi', '3_s2rep', '3_savi', '3_tndvi', '3_tsavi', '3_wdvi', '4_B8', '4_B4', '4_arvi', '4_bi', '4_bi2', '4_ci', '4_dvi', '4_gemi', '4_gndvi', '4_ipvi', '4_ireci', '4_mcari', '4_mndwi', '4_msavi', '4_msavi2', '4_mtci', '4_ndi45', '4_ndpi', '4_ndti', '4_ndvi', '4_ndwi', '4_ndwi2', '4_pssra', '4_pvi', '4_reip', '4_ri', '4_rvi', '4_s2rep', '4_savi', '4_tndvi', '4_tsavi', '4_wdvi', '5_B8', '5_B4', '5_arvi', '5_bi', '5_bi2', '5_ci', '5_dvi', '5_gemi', '5_gndvi', '5_ipvi', '5_ireci', '5_mcari', '5_mndwi', '5_msavi', '5_msavi2', '5_mtci', '5_ndi45', '5_ndpi', '5_ndti', '5_ndvi', '5_ndwi', '5_ndwi2', '5_pssra', '5_pvi', '5_reip', '5_ri', '5_rvi', '5_s2rep', '5_savi', '5_tndvi', '5_tsavi', '5_wdvi', '6_B8', '6_B4', '6_arvi', '6_bi', '6_bi2', '6_ci', '6_dvi', '6_gemi', '6_gndvi', '6_ipvi', '6_ireci', '6_mcari', '6_mndwi', '6_msavi', '6_msavi2', '6_mtci', '6_ndi45', '6_ndpi', '6_ndti', '6_ndvi', '6_ndwi', '6_ndwi2', '6_pssra', '6_pvi', '6_reip', '6_ri', '6_rvi', '6_s2rep', '6_savi', '6_tndvi', '6_tsavi', '6_wdvi', '7_B8', '7_B4', '7_arvi', '7_bi', '7_bi2', '7_ci', '7_dvi', '7_gemi', '7_gndvi', '7_ipvi', '7_ireci', '7_mcari', '7_mndwi', '7_msavi', '7_msavi2', '7_mtci', '7_ndi45', '7_ndpi', '7_ndti', '7_ndvi', '7_ndwi', '7_ndwi2', '7_pssra', '7_pvi', '7_reip', '7_ri', '7_rvi', '7_s2rep', '7_savi', '7_tndvi', '7_tsavi', '7_wdvi', '8_B8', '8_B4', '8_arvi', '8_bi', '8_bi2', '8_ci', '8_dvi', '8_gemi', '8_gndvi', '8_ipvi', '8_ireci', '8_mcari', '8_mndwi', '8_msavi', '8_msavi2', '8_mtci', '8_ndi45', '8_ndpi', '8_ndti', '8_ndvi', '8_ndwi', '8_ndwi2', '8_pssra', '8_pvi', '8_reip', '8_ri', '8_rvi', '8_s2rep', '8_savi', '8_tndvi', '8_tsavi', '8_wdvi', '9_B8', '9_B4', '9_arvi', '9_bi', '9_bi2', '9_ci', '9_dvi', '9_gemi', '9_gndvi', '9_ipvi', '9_ireci', '9_mcari', '9_mndwi', '9_msavi', '9_msavi2', '9_mtci', '9_ndi45', '9_ndpi', '9_ndti', '9_ndvi', '9_ndwi', '9_ndwi2', '9_pssra', '9_pvi', '9_reip', '9_ri', '9_rvi', '9_s2rep', '9_savi', '9_tndvi', '9_tsavi', '9_wdvi', '10_B8', '10_B4', '10_arvi', '10_bi', '10_bi2', '10_ci', '10_dvi', '10_gemi', '10_gndvi', '10_ipvi', '10_ireci', '10_mcari', '10_mndwi', '10_msavi', '10_msavi2', '10_mtci', '10_ndi45', '10_ndpi', '10_ndti', '10_ndvi', '10_ndwi', '10_ndwi2', '10_pssra', '10_pvi', '10_reip', '10_ri', '10_rvi', '10_s2rep', '10_savi', '10_tndvi', '10_tsavi', '10_wdvi', '11_B8', '11_B4', '11_arvi', '11_bi', '11_bi2', '11_ci', '11_dvi', '11_gemi', '11_gndvi', '11_ipvi', '11_ireci', '11_mcari', '11_mndwi', '11_msavi', '11_msavi2', '11_mtci', '11_ndi45', '11_ndpi', '11_ndti', '11_ndvi', '11_ndwi', '11_ndwi2', '11_pssra', '11_pvi', '11_reip', '11_ri', '11_rvi', '11_s2rep', '11_savi', '11_tndvi', '11_tsavi', '11_wdvi']\n",
      "START EXPORTING FEATURES VECTORS OF A SINGLE FILE\n"
     ]
    }
   ],
   "source": [
    "# import all the necessary libraries\n",
    "%run PlotToSat.ipynb\n",
    "\n",
    "# Define study region\n",
    "countries = ee.FeatureCollection('USDOS/LSIB_SIMPLE/2017')\n",
    "polygon = countries.filter(ee.Filter.eq('country_na', 'United Kingdom'))\n",
    "\n",
    "shp = {\n",
    "   \"shpfilename\"        : \"projects/plottosat-fjgibson/assets/greenbelts\",\n",
    "   \"polygonKeyColumn\"   : \"LAD_CD\"\n",
    "}\n",
    "# Specify the year of interest\n",
    "year = 2021\n",
    "\n",
    "# Create an instance of the Manager\n",
    "#myPlotToSat = PlotToSat(polygon,fieldData,year) \n",
    "myPlotToSat = PlotToSat(polygon, shp, year) \n",
    "myPlotToSat.setSampling(1)\n",
    "\n",
    "\n",
    "# Add Earth Observation Collections of interest\n",
    "# myPlotToSat.addCollection(\"sentinel-1\", False) \n",
    "myPlotToSat.addCollection(\"sentinel-2\", 50  ) \n",
    "\n",
    "selectedBands = ['B8', 'B4']\n",
    "# selectedBands = []\n",
    "myPlotToSat.selectBands(\"sentinel-2\", selectedBands)\n",
    "# print all the available indices\n",
    "#myPlotToSat.availableIndices(\"sentinel-2\")# TO DO : FIX\n",
    "# selected indices to be processed \n",
    "selectedIndices = INDEX_NAMES\n",
    "myPlotToSat.selectIndices(\"sentinel-2\",selectedIndices)\n",
    "\n",
    "\n",
    "# #Definition and exportation of outputs\n",
    "# myPlotToSat.exportFeatures(\"Greenbelts_2024_test\", \"feature_vectors_\", 170, 171)\t\n",
    "\n",
    "myPlotToSat.exprtFeaturesMinMax(\"Greenbelts_2021_test_full_inds_22\", \"feature_vectors_\", 170,175)\t\n"
   ]
  },
  {
   "cell_type": "code",
   "execution_count": 7,
   "metadata": {},
   "outputs": [
    {
     "name": "stdout",
     "output_type": "stream",
     "text": [
      "exporting collections\n",
      "WARNING: Sentinel 1 collection parameters loaded are NOT valid and system is skipping this collection\n",
      "Sentinel 2 collection parameters loaded are valid and system is now intepreting data\n",
      "selectedBandsNIndices: ['arvi', 'bi', 'bi2', 'ci', 'dvi', 'gemi', 'gndvi', 'ipvi', 'ireci', 'mcari', 'mndwi', 'msavi', 'msavi2', 'mtci', 'ndi45', 'ndpi', 'ndti', 'ndvi', 'ndwi', 'ndwi2', 'pssra', 'pvi', 'reip', 'ri', 'rvi', 's2rep', 'savi', 'tndvi', 'tsavi', 'wdvi']\n",
      "Band names:  []\n",
      "START EXPORTING FEATURES VECTORS OF A SINGLE FILE\n"
     ]
    }
   ],
   "source": [
    "myPlotToSat.exprtFeaturesMinMax(\"Greenbelts_2021_test\", \"feature_vectors_\",170,175)\t\n"
   ]
  },
  {
   "cell_type": "code",
   "execution_count": 5,
   "metadata": {},
   "outputs": [
    {
     "ename": "EEException",
     "evalue": "Collection.loadTable: Collection asset '/home/finley/Work/RDS/greensight/data/shapes/England_Green_Belt_2022_23_WGS84' not found.",
     "output_type": "error",
     "traceback": [
      "\u001b[0;31m---------------------------------------------------------------------------\u001b[0m",
      "\u001b[0;31mHttpError\u001b[0m                                 Traceback (most recent call last)",
      "File \u001b[0;32m~/Work/RDS/greensight/.venv/lib/python3.12/site-packages/ee/data.py:406\u001b[0m, in \u001b[0;36m_execute_cloud_call\u001b[0;34m(call, num_retries)\u001b[0m\n\u001b[1;32m    405\u001b[0m \u001b[38;5;28;01mtry\u001b[39;00m:\n\u001b[0;32m--> 406\u001b[0m   \u001b[38;5;28;01mreturn\u001b[39;00m \u001b[43mcall\u001b[49m\u001b[38;5;241;43m.\u001b[39;49m\u001b[43mexecute\u001b[49m\u001b[43m(\u001b[49m\u001b[43mnum_retries\u001b[49m\u001b[38;5;241;43m=\u001b[39;49m\u001b[43mnum_retries\u001b[49m\u001b[43m)\u001b[49m\n\u001b[1;32m    407\u001b[0m \u001b[38;5;28;01mexcept\u001b[39;00m googleapiclient\u001b[38;5;241m.\u001b[39merrors\u001b[38;5;241m.\u001b[39mHttpError \u001b[38;5;28;01mas\u001b[39;00m e:\n",
      "File \u001b[0;32m~/Work/RDS/greensight/.venv/lib/python3.12/site-packages/googleapiclient/_helpers.py:130\u001b[0m, in \u001b[0;36mpositional.<locals>.positional_decorator.<locals>.positional_wrapper\u001b[0;34m(*args, **kwargs)\u001b[0m\n\u001b[1;32m    129\u001b[0m         logger\u001b[38;5;241m.\u001b[39mwarning(message)\n\u001b[0;32m--> 130\u001b[0m \u001b[38;5;28;01mreturn\u001b[39;00m \u001b[43mwrapped\u001b[49m\u001b[43m(\u001b[49m\u001b[38;5;241;43m*\u001b[39;49m\u001b[43margs\u001b[49m\u001b[43m,\u001b[49m\u001b[43m \u001b[49m\u001b[38;5;241;43m*\u001b[39;49m\u001b[38;5;241;43m*\u001b[39;49m\u001b[43mkwargs\u001b[49m\u001b[43m)\u001b[49m\n",
      "File \u001b[0;32m~/Work/RDS/greensight/.venv/lib/python3.12/site-packages/googleapiclient/http.py:938\u001b[0m, in \u001b[0;36mHttpRequest.execute\u001b[0;34m(self, http, num_retries)\u001b[0m\n\u001b[1;32m    937\u001b[0m \u001b[38;5;28;01mif\u001b[39;00m resp\u001b[38;5;241m.\u001b[39mstatus \u001b[38;5;241m>\u001b[39m\u001b[38;5;241m=\u001b[39m \u001b[38;5;241m300\u001b[39m:\n\u001b[0;32m--> 938\u001b[0m     \u001b[38;5;28;01mraise\u001b[39;00m HttpError(resp, content, uri\u001b[38;5;241m=\u001b[39m\u001b[38;5;28mself\u001b[39m\u001b[38;5;241m.\u001b[39muri)\n\u001b[1;32m    939\u001b[0m \u001b[38;5;28;01mreturn\u001b[39;00m \u001b[38;5;28mself\u001b[39m\u001b[38;5;241m.\u001b[39mpostproc(resp, content)\n",
      "\u001b[0;31mHttpError\u001b[0m: <HttpError 400 when requesting https://earthengine.googleapis.com/v1/projects/plottosat-fjgibson/value:compute?prettyPrint=false&alt=json returned \"Collection.loadTable: Collection asset '/home/finley/Work/RDS/greensight/data/shapes/England_Green_Belt_2022_23_WGS84' not found.\". Details: \"Collection.loadTable: Collection asset '/home/finley/Work/RDS/greensight/data/shapes/England_Green_Belt_2022_23_WGS84' not found.\">",
      "\nDuring handling of the above exception, another exception occurred:\n",
      "\u001b[0;31mEEException\u001b[0m                               Traceback (most recent call last)",
      "Cell \u001b[0;32mIn[5], line 2\u001b[0m\n\u001b[1;32m      1\u001b[0m p \u001b[38;5;241m=\u001b[39m ee\u001b[38;5;241m.\u001b[39mFeatureCollection(\u001b[38;5;124m\"\u001b[39m\u001b[38;5;124m/home/finley/Work/RDS/greensight/data/shapes/England_Green_Belt_2022_23_WGS84\u001b[39m\u001b[38;5;124m\"\u001b[39m)\n\u001b[0;32m----> 2\u001b[0m \u001b[43mp\u001b[49m\u001b[38;5;241;43m.\u001b[39;49m\u001b[43msize\u001b[49m\u001b[43m(\u001b[49m\u001b[43m)\u001b[49m\u001b[38;5;241;43m.\u001b[39;49m\u001b[43mgetInfo\u001b[49m\u001b[43m(\u001b[49m\u001b[43m)\u001b[49m\n",
      "File \u001b[0;32m~/Work/RDS/greensight/.venv/lib/python3.12/site-packages/ee/computedobject.py:107\u001b[0m, in \u001b[0;36mComputedObject.getInfo\u001b[0;34m(self)\u001b[0m\n\u001b[1;32m    101\u001b[0m \u001b[38;5;28;01mdef\u001b[39;00m \u001b[38;5;21mgetInfo\u001b[39m(\u001b[38;5;28mself\u001b[39m) \u001b[38;5;241m-\u001b[39m\u001b[38;5;241m>\u001b[39m Optional[Any]:\n\u001b[1;32m    102\u001b[0m \u001b[38;5;250m  \u001b[39m\u001b[38;5;124;03m\"\"\"Fetch and return information about this object.\u001b[39;00m\n\u001b[1;32m    103\u001b[0m \n\u001b[1;32m    104\u001b[0m \u001b[38;5;124;03m  Returns:\u001b[39;00m\n\u001b[1;32m    105\u001b[0m \u001b[38;5;124;03m    The object can evaluate to anything.\u001b[39;00m\n\u001b[1;32m    106\u001b[0m \u001b[38;5;124;03m  \"\"\"\u001b[39;00m\n\u001b[0;32m--> 107\u001b[0m   \u001b[38;5;28;01mreturn\u001b[39;00m \u001b[43mdata\u001b[49m\u001b[38;5;241;43m.\u001b[39;49m\u001b[43mcomputeValue\u001b[49m\u001b[43m(\u001b[49m\u001b[38;5;28;43mself\u001b[39;49m\u001b[43m)\u001b[49m\n",
      "File \u001b[0;32m~/Work/RDS/greensight/.venv/lib/python3.12/site-packages/ee/data.py:1126\u001b[0m, in \u001b[0;36mcomputeValue\u001b[0;34m(obj)\u001b[0m\n\u001b[1;32m   1123\u001b[0m body \u001b[38;5;241m=\u001b[39m {\u001b[38;5;124m'\u001b[39m\u001b[38;5;124mexpression\u001b[39m\u001b[38;5;124m'\u001b[39m: serializer\u001b[38;5;241m.\u001b[39mencode(obj, for_cloud_api\u001b[38;5;241m=\u001b[39m\u001b[38;5;28;01mTrue\u001b[39;00m)}\n\u001b[1;32m   1124\u001b[0m _maybe_populate_workload_tag(body)\n\u001b[0;32m-> 1126\u001b[0m \u001b[38;5;28;01mreturn\u001b[39;00m \u001b[43m_execute_cloud_call\u001b[49m\u001b[43m(\u001b[49m\n\u001b[1;32m   1127\u001b[0m \u001b[43m    \u001b[49m\u001b[43m_get_cloud_projects\u001b[49m\u001b[43m(\u001b[49m\u001b[43m)\u001b[49m\n\u001b[1;32m   1128\u001b[0m \u001b[43m    \u001b[49m\u001b[38;5;241;43m.\u001b[39;49m\u001b[43mvalue\u001b[49m\u001b[43m(\u001b[49m\u001b[43m)\u001b[49m\n\u001b[1;32m   1129\u001b[0m \u001b[43m    \u001b[49m\u001b[38;5;241;43m.\u001b[39;49m\u001b[43mcompute\u001b[49m\u001b[43m(\u001b[49m\u001b[43mbody\u001b[49m\u001b[38;5;241;43m=\u001b[39;49m\u001b[43mbody\u001b[49m\u001b[43m,\u001b[49m\u001b[43m \u001b[49m\u001b[43mproject\u001b[49m\u001b[38;5;241;43m=\u001b[39;49m\u001b[43m_get_projects_path\u001b[49m\u001b[43m(\u001b[49m\u001b[43m)\u001b[49m\u001b[43m,\u001b[49m\u001b[43m \u001b[49m\u001b[43mprettyPrint\u001b[49m\u001b[38;5;241;43m=\u001b[39;49m\u001b[38;5;28;43;01mFalse\u001b[39;49;00m\u001b[43m)\u001b[49m\n\u001b[1;32m   1130\u001b[0m \u001b[43m\u001b[49m\u001b[43m)\u001b[49m[\u001b[38;5;124m'\u001b[39m\u001b[38;5;124mresult\u001b[39m\u001b[38;5;124m'\u001b[39m]\n",
      "File \u001b[0;32m~/Work/RDS/greensight/.venv/lib/python3.12/site-packages/ee/data.py:408\u001b[0m, in \u001b[0;36m_execute_cloud_call\u001b[0;34m(call, num_retries)\u001b[0m\n\u001b[1;32m    406\u001b[0m   \u001b[38;5;28;01mreturn\u001b[39;00m call\u001b[38;5;241m.\u001b[39mexecute(num_retries\u001b[38;5;241m=\u001b[39mnum_retries)\n\u001b[1;32m    407\u001b[0m \u001b[38;5;28;01mexcept\u001b[39;00m googleapiclient\u001b[38;5;241m.\u001b[39merrors\u001b[38;5;241m.\u001b[39mHttpError \u001b[38;5;28;01mas\u001b[39;00m e:\n\u001b[0;32m--> 408\u001b[0m   \u001b[38;5;28;01mraise\u001b[39;00m _translate_cloud_exception(e)\n",
      "\u001b[0;31mEEException\u001b[0m: Collection.loadTable: Collection asset '/home/finley/Work/RDS/greensight/data/shapes/England_Green_Belt_2022_23_WGS84' not found."
     ]
    }
   ],
   "source": [
    "p = ee.FeatureCollection(\"/home/finley/Work/RDS/greensight/data/shapes/England_Green_Belt_2022_23_WGS84\")\n",
    "p.size().getInfo()"
   ]
  },
  {
   "cell_type": "code",
   "execution_count": null,
   "metadata": {},
   "outputs": [],
   "source": []
  }
 ],
 "metadata": {
  "kernelspec": {
   "display_name": ".venv",
   "language": "python",
   "name": "python3"
  },
  "language_info": {
   "codemirror_mode": {
    "name": "ipython",
    "version": 3
   },
   "file_extension": ".py",
   "mimetype": "text/x-python",
   "name": "python",
   "nbconvert_exporter": "python",
   "pygments_lexer": "ipython3",
   "version": "3.12.7"
  },
  "orig_nbformat": 4
 },
 "nbformat": 4,
 "nbformat_minor": 2
}
